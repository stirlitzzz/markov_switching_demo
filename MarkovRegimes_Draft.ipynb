{
  "cells": [
    {
      "cell_type": "markdown",
      "metadata": {
        "id": "view-in-github",
        "colab_type": "text"
      },
      "source": [
        "<a href=\"https://colab.research.google.com/github/stirlitzzz/markov_switching_demo/blob/main/MarkovRegimes_Draft.ipynb\" target=\"_parent\"><img src=\"https://colab.research.google.com/assets/colab-badge.svg\" alt=\"Open In Colab\"/></a>"
      ]
    },
    {
      "cell_type": "code",
      "execution_count": null,
      "metadata": {
        "id": "6IxNqiq90U3Q"
      },
      "outputs": [],
      "source": [
        "import statsmodels.api as sm\n",
        "import pandas as pd\n",
        "import numpy as np\n",
        "import matplotlib.pyplot as plt\n",
        "\n",
        "# Imports for JupyterLite\n",
        "import ipywidgets as widgets\n",
        "from datetime import datetime\n",
        "from pandas.io.stata import relativedelta\n",
        "from IPython.display import display"
      ]
    },
    {
      "cell_type": "markdown",
      "metadata": {
        "id": "j6pS8TGE126H"
      },
      "source": [
        "Label Bear and Bull markets."
      ]
    },
    {
      "cell_type": "code",
      "execution_count": null,
      "metadata": {
        "id": "K_4uHEPTgmHv"
      },
      "outputs": [],
      "source": [
        "def labelBullBearMarket(ts):\n",
        "    \"\"\"\n",
        "    ts: a time series\n",
        "    result: a time series of labeled market states (0: bear, 1: bull)\n",
        "    1. Given that the last observed extreme was a local maximum, referred to as P max , the subsequent price series is checked against the following criteria:\n",
        "            a) The peak is updated if the stock market has risen above the last peak.\n",
        "            b) A local minimum has been found if the stock market has fallen by 10% or more.\n",
        "            c) There are no updates if neither a) nor b) took place.\n",
        "            2. Given that the last observed extreme was a local minimum, referred to as P min, the subsequent price series is checked against the following criteria:\n",
        "            a) The trough is updated if the stock market has dropped below the last minimum.\n",
        "            b) A peak has been found if the stock market has risen by 15% or more.\n",
        "            c) There are no updates if neither a) nor b) took place.\n",
        "    \"\"\"\n",
        "    last_max=ts[0]\n",
        "    last_min=ts[0]\n",
        "    last_extreme_regime=1\n",
        "    last_regime_index=0\n",
        "    result=np.zeros(len(ts))\n",
        "    for i in range(1,len(ts)):\n",
        "        if last_extreme_regime==1:\n",
        "            if ts[i]>last_max:\n",
        "                last_max=ts[i]\n",
        "                result[last_regime_index:i]=1\n",
        "                last_regime_index=i\n",
        "\n",
        "            elif ts[i]<last_max*0.9:\n",
        "                last_min=ts[i]\n",
        "                last_extreme_regime=0\n",
        "                result[last_regime_index:i]=0\n",
        "                last_regime_index=i\n",
        "        else:\n",
        "            if ts[i]<last_min:\n",
        "                last_min=ts[i]\n",
        "                result[last_regime_index:i]=0\n",
        "                last_regime_index=i\n",
        "            elif ts[i]>last_min*1.15:\n",
        "                last_max=ts[i]\n",
        "                last_extreme_regime=1\n",
        "                result[last_regime_index:i]=1\n",
        "                last_regime_index=i\n",
        "\n",
        "\n",
        "    return result"
      ]
    },
    {
      "cell_type": "markdown",
      "metadata": {
        "id": "XZIRCbUAghhD"
      },
      "source": [
        "Load SPX historical Data:\n",
        "- This is daily data, but I would want to run it on weekly\n",
        "- What is the best way to resample \n",
        "- I want to have also load the OECD data and resample them together"
      ]
    },
    {
      "cell_type": "code",
      "execution_count": null,
      "metadata": {
        "id": "0N9-ff3Rgjfz"
      },
      "outputs": [],
      "source": [
        "spx_data_all=pd.read_csv('https://raw.githubusercontent.com/stirlitzzz/markov_switching_demo/main/SPX_1980_historical_data.csv', index_col='Date')\n",
        "spx_data_all.index=pd.to_datetime(spx_data_all.index)\n",
        "spx_data_all.Close=pd.to_numeric(spx_data_all.Close)\n",
        "ts_regime=labelBullBearMarket(spx_data_all.Close)\n",
        "spx_data_all[\"Date\"]=spx_data_all.index\n",
        "spx_data_all[\"Regime\"]=ts_regime\n"
      ]
    },
    {
      "cell_type": "code",
      "execution_count": null,
      "metadata": {
        "id": "56mYWYj_E5Mu"
      },
      "outputs": [],
      "source": [
        "oecd_raw_data=pd.read_csv('https://raw.githubusercontent.com/stirlitzzz/OECD_demo/main/OECD_indicators_raw.csv')\n",
        "#first step is to set up the pivot table\n",
        "oecd_pivot=pd.pivot_table(oecd_raw_data,values='Value',index='TIME', columns='LOCATION', aggfunc=np.mean)\n",
        "#find the average value for each time slice\n",
        "oecd_index=oecd_pivot.mean(axis=1)/100\n",
        "#Compute the diffusion index (percent of location with CLI index up month over month)\n",
        "oecd_monthly_diffs=oecd_pivot.diff(axis=0)\n",
        "a=oecd_monthly_diffs>0\n",
        "b=oecd_monthly_diffs<=0\n",
        "oecd_monthly_diffusion_index=a.sum(axis=1)/(a.sum(axis=1)+b.sum(axis=1))\n",
        "#make a copy of the original series, change the index to datetime, and move forward by 15 days\n",
        "oecd_diffusion_dates=[datetime.strptime(x, '%Y-%m')+relativedelta(months=1)+relativedelta(days=14) for x in oecd_monthly_diffusion_index.index]\n",
        "oecd_monthly_diffusion_index.index=oecd_diffusion_dates"
      ]
    },
    {
      "cell_type": "code",
      "execution_count": null,
      "metadata": {
        "id": "n4aD0FKEJKul"
      },
      "outputs": [],
      "source": [
        "oecd_downsampled_diffusion=oecd_monthly_diffusion_index.resample('W-Mon').ffill()\n",
        "spx_downsampled_data=spx_data_all.resample('W-Mon').last() \n",
        "spx_downsampled_data=spx_downsampled_data[[\"Close\"]]\n",
        "oecd_downsampled_diffusion\n",
        "df_oecd_daily=pd.DataFrame(oecd_downsampled_diffusion)\n",
        "df_oecd_daily.columns=[\"oecd_diffusion\"]\n",
        "df_oecd_daily.index.name=\"Date\"\n",
        "\n",
        "spx_oecd=spx_downsampled_data.merge(df_oecd_daily,left_index=True,right_index=True)\n",
        "spx_oecd[\"oecd_diffusion_lag\"]=spx_oecd[\"oecd_diffusion\"].shift(periods=1)\n",
        "ts_regime=labelBullBearMarket(spx_oecd.Close)\n",
        "spx_oecd[\"Regime\"]=ts_regime\n",
        "\n",
        "spx_oecd[\"return\"]=spx_oecd[\"Close\"]/spx_oecd[\"Close\"].shift(periods=1)-1\n",
        "df_returns=spx_oecd[\"return\"]\n",
        "df_diffusion_ind=spx_oecd[\"oecd_diffusion\"]"
      ]
    },
    {
      "cell_type": "markdown",
      "metadata": {
        "id": "OZJz5o90xIs1"
      },
      "source": [
        "Plot all of the data"
      ]
    },
    {
      "cell_type": "code",
      "execution_count": null,
      "metadata": {
        "colab": {
          "base_uri": "https://localhost:8080/",
          "height": 279
        },
        "id": "UoEF2qCUiAVl",
        "outputId": "0ad172d7-4696-4747-8cc6-ea4e70bef80e"
      },
      "outputs": [
        {
          "data": {
            "image/png": "[encoded data removed]",
            "text/plain": [
              "<Figure size 432x288 with 1 Axes>"
            ]
          },
          "metadata": {},
          "output_type": "display_data"
        }
      ],
      "source": [
        "#spx_data=spx_data_all\n",
        "spx_data=spx_oecd\n",
        "y_min,y_max=spx_data.Close.min(),spx_data.Close.max()\n",
        "ax=spx_data.Close.plot()\n",
        "ax.fill_between(spx_data.Close.index, y_min,y_max, where=(spx_data.Regime==0), color='red',alpha=0.2)\n",
        "ax.fill_between(spx_data.Close.index, y_min,y_max, where=(spx_data.Regime==1), color='green',alpha=0.2)\n",
        "plt.yscale('log')\n",
        "plt.show()"
      ]
    },
    {
      "cell_type": "markdown",
      "metadata": {
        "id": "QiyNbQLRxPZt"
      },
      "source": [
        "Do in-sample classification"
      ]
    },
    {
      "cell_type": "code",
      "execution_count": null,
      "metadata": {
        "id": "bhM87Rs_8-L_"
      },
      "outputs": [],
      "source": [
        "num_regimes=2\n",
        "sample_end=2230\n",
        "probs_out=[]\n",
        "probs_tvtp_out=[]\n",
        "for j in range(num_regimes):\n",
        "    regime_prob=[]\n",
        "    regime_tvtp_prob=[]\n",
        "    probs_out.append(regime_prob)\n",
        "    probs_tvtp_out.append(regime_tvtp_prob)\n",
        "\n",
        "mod_sm_fixed = sm.tsa.MarkovRegression(\n",
        "    df_returns.to_numpy()[1:sample_end], k_regimes=num_regimes, trend=\"c\", switching_variance=True, switching_trend=True)\n",
        "    #print(\"i={}\".format(i))\n",
        "res_fixed = mod_sm_fixed.fit()\n",
        "    #res_fixed.summary()\n",
        "mod_sm_tvtp = sm.tsa.MarkovRegression(\n",
        "    df_returns.to_numpy()[1:sample_end], k_regimes=num_regimes, trend=\"c\", switching_variance=True, switching_trend=True,exog_tvtp=df_diffusion_ind.to_numpy()[1:sample_end])\n",
        "res_tvtp = mod_sm_tvtp.fit()\n",
        "for j in range(num_regimes):\n",
        "    probs=res_fixed.smoothed_marginal_probabilities[:,j]\n",
        "    probs_tvtp=res_tvtp.smoothed_marginal_probabilities[:,j]\n",
        "    probs_out[j]=probs\n",
        "    probs_tvtp_out[j]=probs_tvtp"
      ]
    },
    {
      "cell_type": "code",
      "execution_count": null,
      "metadata": {
        "colab": {
          "base_uri": "https://localhost:8080/"
        },
        "id": "s_Q8eHRtpdf0",
        "outputId": "3fbacb1d-8929-42e4-cfbb-936c9bd133d0"
      },
      "outputs": [
        {
          "data": {
            "text/plain": [
              "2234"
            ]
          },
          "execution_count": 8,
          "metadata": {},
          "output_type": "execute_result"
        }
      ],
      "source": [
        "df_returns.shape[0]"
      ]
    },
    {
      "cell_type": "code",
      "execution_count": null,
      "metadata": {
        "colab": {
          "base_uri": "https://localhost:8080/",
          "height": 450
        },
        "id": "dsJelsI0waHp",
        "outputId": "c254903c-a991-4a34-904a-2918281bdb17"
      },
      "outputs": [
        {
          "data": {
            "text/html": [
              "\n",
              "  <div id=\"df-c20b2f29-008a-42a7-8031-c2359bd0fa4f\">\n",
              "    <div class=\"colab-df-container\">\n",
              "      <div>\n",
              "<style scoped>\n",
              "    .dataframe tbody tr th:only-of-type {\n",
              "        vertical-align: middle;\n",
              "    }\n",
              "\n",
              "    .dataframe tbody tr th {\n",
              "        vertical-align: top;\n",
              "    }\n",
              "\n",
              "    .dataframe thead th {\n",
              "        text-align: right;\n",
              "    }\n",
              "</style>\n",
              "<table border=\"1\" class=\"dataframe\">\n",
              "  <thead>\n",
              "    <tr style=\"text-align: right;\">\n",
              "      <th></th>\n",
              "      <th>Close</th>\n",
              "      <th>oecd_diffusion</th>\n",
              "      <th>oecd_diffusion_lag</th>\n",
              "      <th>Regime</th>\n",
              "      <th>return</th>\n",
              "      <th>prob_zero</th>\n",
              "      <th>prob_one</th>\n",
              "      <th>prob_tvtp_zero</th>\n",
              "      <th>prob_tvtp_one</th>\n",
              "    </tr>\n",
              "    <tr>\n",
              "      <th>Date</th>\n",
              "      <th></th>\n",
              "      <th></th>\n",
              "      <th></th>\n",
              "      <th></th>\n",
              "      <th></th>\n",
              "      <th></th>\n",
              "      <th></th>\n",
              "      <th></th>\n",
              "      <th></th>\n",
              "    </tr>\n",
              "  </thead>\n",
              "  <tbody>\n",
              "    <tr>\n",
              "      <th>1979-12-31</th>\n",
              "      <td>107.90</td>\n",
              "      <td>0.227273</td>\n",
              "      <td>NaN</td>\n",
              "      <td>1.0</td>\n",
              "      <td>NaN</td>\n",
              "      <td>0.828562</td>\n",
              "      <td>0.171438</td>\n",
              "      <td>0.778491</td>\n",
              "      <td>0.221509</td>\n",
              "    </tr>\n",
              "    <tr>\n",
              "      <th>1980-01-07</th>\n",
              "      <td>106.80</td>\n",
              "      <td>0.227273</td>\n",
              "      <td>0.227273</td>\n",
              "      <td>1.0</td>\n",
              "      <td>-0.010195</td>\n",
              "      <td>0.819676</td>\n",
              "      <td>0.180324</td>\n",
              "      <td>0.702416</td>\n",
              "      <td>0.297584</td>\n",
              "    </tr>\n",
              "    <tr>\n",
              "      <th>1980-01-14</th>\n",
              "      <td>110.40</td>\n",
              "      <td>0.227273</td>\n",
              "      <td>0.227273</td>\n",
              "      <td>1.0</td>\n",
              "      <td>0.033708</td>\n",
              "      <td>0.833699</td>\n",
              "      <td>0.166301</td>\n",
              "      <td>0.818273</td>\n",
              "      <td>0.181727</td>\n",
              "    </tr>\n",
              "    <tr>\n",
              "      <th>1980-01-21</th>\n",
              "      <td>112.10</td>\n",
              "      <td>0.181818</td>\n",
              "      <td>0.227273</td>\n",
              "      <td>1.0</td>\n",
              "      <td>0.015399</td>\n",
              "      <td>0.823369</td>\n",
              "      <td>0.176631</td>\n",
              "      <td>0.814753</td>\n",
              "      <td>0.185247</td>\n",
              "    </tr>\n",
              "    <tr>\n",
              "      <th>1980-01-28</th>\n",
              "      <td>114.80</td>\n",
              "      <td>0.181818</td>\n",
              "      <td>0.181818</td>\n",
              "      <td>1.0</td>\n",
              "      <td>0.024086</td>\n",
              "      <td>0.804891</td>\n",
              "      <td>0.195109</td>\n",
              "      <td>0.858994</td>\n",
              "      <td>0.141006</td>\n",
              "    </tr>\n",
              "    <tr>\n",
              "      <th>...</th>\n",
              "      <td>...</td>\n",
              "      <td>...</td>\n",
              "      <td>...</td>\n",
              "      <td>...</td>\n",
              "      <td>...</td>\n",
              "      <td>...</td>\n",
              "      <td>...</td>\n",
              "      <td>...</td>\n",
              "      <td>...</td>\n",
              "    </tr>\n",
              "    <tr>\n",
              "      <th>2022-09-19</th>\n",
              "      <td>3899.89</td>\n",
              "      <td>0.000000</td>\n",
              "      <td>0.047619</td>\n",
              "      <td>0.0</td>\n",
              "      <td>-0.051216</td>\n",
              "      <td>0.000000</td>\n",
              "      <td>0.000000</td>\n",
              "      <td>0.000000</td>\n",
              "      <td>0.000000</td>\n",
              "    </tr>\n",
              "    <tr>\n",
              "      <th>2022-09-26</th>\n",
              "      <td>3655.04</td>\n",
              "      <td>0.000000</td>\n",
              "      <td>0.000000</td>\n",
              "      <td>0.0</td>\n",
              "      <td>-0.062784</td>\n",
              "      <td>0.000000</td>\n",
              "      <td>0.000000</td>\n",
              "      <td>0.000000</td>\n",
              "      <td>0.000000</td>\n",
              "    </tr>\n",
              "    <tr>\n",
              "      <th>2022-10-03</th>\n",
              "      <td>3678.43</td>\n",
              "      <td>0.000000</td>\n",
              "      <td>0.000000</td>\n",
              "      <td>0.0</td>\n",
              "      <td>0.006399</td>\n",
              "      <td>0.000000</td>\n",
              "      <td>0.000000</td>\n",
              "      <td>0.000000</td>\n",
              "      <td>0.000000</td>\n",
              "    </tr>\n",
              "    <tr>\n",
              "      <th>2022-10-10</th>\n",
              "      <td>3612.39</td>\n",
              "      <td>0.000000</td>\n",
              "      <td>0.000000</td>\n",
              "      <td>0.0</td>\n",
              "      <td>-0.017953</td>\n",
              "      <td>0.000000</td>\n",
              "      <td>0.000000</td>\n",
              "      <td>0.000000</td>\n",
              "      <td>0.000000</td>\n",
              "    </tr>\n",
              "    <tr>\n",
              "      <th>2022-10-17</th>\n",
              "      <td>3677.95</td>\n",
              "      <td>0.000000</td>\n",
              "      <td>0.000000</td>\n",
              "      <td>0.0</td>\n",
              "      <td>0.018149</td>\n",
              "      <td>0.000000</td>\n",
              "      <td>0.000000</td>\n",
              "      <td>0.000000</td>\n",
              "      <td>0.000000</td>\n",
              "    </tr>\n",
              "  </tbody>\n",
              "</table>\n",
              "<p>2234 rows × 9 columns</p>\n",
              "</div>\n",
              "      <button class=\"colab-df-convert\" onclick=\"convertToInteractive('df-c20b2f29-008a-42a7-8031-c2359bd0fa4f')\"\n",
              "              title=\"Convert this dataframe to an interactive table.\"\n",
              "              style=\"display:none;\">\n",
              "        \n",
              "  <svg xmlns=\"http://www.w3.org/2000/svg\" height=\"24px\"viewBox=\"0 0 24 24\"\n",
              "       width=\"24px\">\n",
              "    <path d=\"M0 0h24v24H0V0z\" fill=\"none\"/>\n",
              "    <path d=\"M18.56 5.44l.94 2.06.94-2.06 2.06-.94-2.06-.94-.94-2.06-.94 2.06-2.06.94zm-11 1L8.5 8.5l.94-2.06 2.06-.94-2.06-.94L8.5 2.5l-.94 2.06-2.06.94zm10 10l.94 2.06.94-2.06 2.06-.94-2.06-.94-.94-2.06-.94 2.06-2.06.94z\"/><path d=\"M17.41 7.96l-1.37-1.37c-.4-.4-.92-.59-1.43-.59-.52 0-1.04.2-1.43.59L10.3 9.45l-7.72 7.72c-.78.78-.78 2.05 0 2.83L4 21.41c.39.39.9.59 1.41.59.51 0 1.02-.2 1.41-.59l7.78-7.78 2.81-2.81c.8-.78.8-2.07 0-2.86zM5.41 20L4 18.59l7.72-7.72 1.47 1.35L5.41 20z\"/>\n",
              "  </svg>\n",
              "      </button>\n",
              "      \n",
              "  <style>\n",
              "    .colab-df-container {\n",
              "      display:flex;\n",
              "      flex-wrap:wrap;\n",
              "      gap: 12px;\n",
              "    }\n",
              "\n",
              "    .colab-df-convert {\n",
              "      background-color: #E8F0FE;\n",
              "      border: none;\n",
              "      border-radius: 50%;\n",
              "      cursor: pointer;\n",
              "      display: none;\n",
              "      fill: #1967D2;\n",
              "      height: 32px;\n",
              "      padding: 0 0 0 0;\n",
              "      width: 32px;\n",
              "    }\n",
              "\n",
              "    .colab-df-convert:hover {\n",
              "      background-color: #E2EBFA;\n",
              "      box-shadow: 0px 1px 2px rgba(60, 64, 67, 0.3), 0px 1px 3px 1px rgba(60, 64, 67, 0.15);\n",
              "      fill: #174EA6;\n",
              "    }\n",
              "\n",
              "    [theme=dark] .colab-df-convert {\n",
              "      background-color: #3B4455;\n",
              "      fill: #D2E3FC;\n",
              "    }\n",
              "\n",
              "    [theme=dark] .colab-df-convert:hover {\n",
              "      background-color: #434B5C;\n",
              "      box-shadow: 0px 1px 3px 1px rgba(0, 0, 0, 0.15);\n",
              "      filter: drop-shadow(0px 1px 2px rgba(0, 0, 0, 0.3));\n",
              "      fill: #FFFFFF;\n",
              "    }\n",
              "  </style>\n",
              "\n",
              "      <script>\n",
              "        const buttonEl =\n",
              "          document.querySelector('#df-c20b2f29-008a-42a7-8031-c2359bd0fa4f button.colab-df-convert');\n",
              "        buttonEl.style.display =\n",
              "          google.colab.kernel.accessAllowed ? 'block' : 'none';\n",
              "\n",
              "        async function convertToInteractive(key) {\n",
              "          const element = document.querySelector('#df-c20b2f29-008a-42a7-8031-c2359bd0fa4f');\n",
              "          const dataTable =\n",
              "            await google.colab.kernel.invokeFunction('convertToInteractive',\n",
              "                                                     [key], {});\n",
              "          if (!dataTable) return;\n",
              "\n",
              "          const docLinkHtml = 'Like what you see? Visit the ' +\n",
              "            '<a target=\"_blank\" href=https://colab.research.google.com/notebooks/data_table.ipynb>data table notebook</a>'\n",
              "            + ' to learn more about interactive tables.';\n",
              "          element.innerHTML = '';\n",
              "          dataTable['output_type'] = 'display_data';\n",
              "          await google.colab.output.renderOutput(dataTable, element);\n",
              "          const docLink = document.createElement('div');\n",
              "          docLink.innerHTML = docLinkHtml;\n",
              "          element.appendChild(docLink);\n",
              "        }\n",
              "      </script>\n",
              "    </div>\n",
              "  </div>\n",
              "  "
            ],
            "text/plain": [
              "              Close  oecd_diffusion  oecd_diffusion_lag  Regime    return  \\\n",
              "Date                                                                        \n",
              "1979-12-31   107.90        0.227273                 NaN     1.0       NaN   \n",
              "1980-01-07   106.80        0.227273            0.227273     1.0 -0.010195   \n",
              "1980-01-14   110.40        0.227273            0.227273     1.0  0.033708   \n",
              "1980-01-21   112.10        0.181818            0.227273     1.0  0.015399   \n",
              "1980-01-28   114.80        0.181818            0.181818     1.0  0.024086   \n",
              "...             ...             ...                 ...     ...       ...   \n",
              "2022-09-19  3899.89        0.000000            0.047619     0.0 -0.051216   \n",
              "2022-09-26  3655.04        0.000000            0.000000     0.0 -0.062784   \n",
              "2022-10-03  3678.43        0.000000            0.000000     0.0  0.006399   \n",
              "2022-10-10  3612.39        0.000000            0.000000     0.0 -0.017953   \n",
              "2022-10-17  3677.95        0.000000            0.000000     0.0  0.018149   \n",
              "\n",
              "            prob_zero  prob_one  prob_tvtp_zero  prob_tvtp_one  \n",
              "Date                                                            \n",
              "1979-12-31   0.828562  0.171438        0.778491       0.221509  \n",
              "1980-01-07   0.819676  0.180324        0.702416       0.297584  \n",
              "1980-01-14   0.833699  0.166301        0.818273       0.181727  \n",
              "1980-01-21   0.823369  0.176631        0.814753       0.185247  \n",
              "1980-01-28   0.804891  0.195109        0.858994       0.141006  \n",
              "...               ...       ...             ...            ...  \n",
              "2022-09-19   0.000000  0.000000        0.000000       0.000000  \n",
              "2022-09-26   0.000000  0.000000        0.000000       0.000000  \n",
              "2022-10-03   0.000000  0.000000        0.000000       0.000000  \n",
              "2022-10-10   0.000000  0.000000        0.000000       0.000000  \n",
              "2022-10-17   0.000000  0.000000        0.000000       0.000000  \n",
              "\n",
              "[2234 rows x 9 columns]"
            ]
          },
          "execution_count": 9,
          "metadata": {},
          "output_type": "execute_result"
        }
      ],
      "source": [
        "df_output=spx_oecd\n",
        "df_output\n",
        "num_dates=spx_oecd.shape[0]\n",
        "\n",
        "df_output[\"prob_zero\"] =np.pad(probs_out[0],(0,num_dates-sample_end+1),'constant', constant_values=(0, 0))\n",
        "df_output[\"prob_one\"] =np.pad(probs_out[1],(0,num_dates-sample_end+1),'constant', constant_values=(0, 0))\n",
        "df_output[\"prob_tvtp_zero\"] =np.pad(probs_tvtp_out[0],(0,num_dates-sample_end+1),'constant', constant_values=(0, 0))\n",
        "df_output[\"prob_tvtp_one\"] =np.pad(probs_tvtp_out[1],(0,num_dates-sample_end+1),'constant', constant_values=(0, 0))\n",
        "df_output\n",
        "\n"
      ]
    },
    {
      "cell_type": "markdown",
      "metadata": {
        "id": "wJ660E_qNx-d"
      },
      "source": [
        "Read the file and display"
      ]
    },
    {
      "cell_type": "code",
      "execution_count": null,
      "metadata": {
        "colab": {
          "base_uri": "https://localhost:8080/"
        },
        "id": "UYPj-9sIxkzy",
        "outputId": "df9ca603-f42f-42d3-ba35-78574805a3fc"
      },
      "outputs": [
        {
          "name": "stderr",
          "output_type": "stream",
          "text": [
            "<ipython-input-10-1ff91db9d7a5>:9: SettingWithCopyWarning: \n",
            "A value is trying to be set on a copy of a slice from a DataFrame\n",
            "\n",
            "See the caveats in the documentation: https://pandas.pydata.org/pandas-docs/stable/user_guide/indexing.html#returning-a-view-versus-a-copy\n",
            "  df_turning_points[\"Prev_Start_Date\"][0]=df_turning_points[\"Start_Date\"][0]\n"
          ]
        }
      ],
      "source": [
        "filter_turning_point=(df_output.Regime!=df_output.Regime.shift(1))\n",
        "df_turning_points=df_output.loc[filter_turning_point].copy()\n",
        "df_turning_points=df_turning_points[[\"Close\",\"Regime\",\"oecd_diffusion\",\"oecd_diffusion_lag\"]]\n",
        "df_turning_points[\"Performance\"]=df_turning_points.Close.shift(-1)/df_turning_points.Close-1\n",
        "df_turning_points[\"Start_Date\"]=df_turning_points.index\n",
        "#df_turning_points[\"Duration\"]=df_turning_points.Start_Date.shift(-1)-df_turning_points.Start_Date\n",
        "df_turning_points[\"End_Date\"]=df_turning_points.Start_Date.shift(-1)\n",
        "df_turning_points[\"Prev_Start_Date\"]=df_turning_points.Start_Date.shift(1)  \n",
        "df_turning_points[\"Prev_Start_Date\"][0]=df_turning_points[\"Start_Date\"][0]\n",
        "regime_codes={0:\"Bear\",1:\"Bull\"}\n",
        "regime_codes_reverse={v:k for k,v in regime_codes.items()}\n",
        "with pd.ExcelWriter('output.xlsx') as writer:  \n",
        "    df_output.to_excel(writer, sheet_name='In_sample_class')\n",
        "    df_turning_points.to_excel(writer, sheet_name='regime_periods')\n",
        "#df_turning_points\n"
      ]
    },
    {
      "cell_type": "markdown",
      "metadata": {
        "id": "h8vtg2oNV883"
      },
      "source": [
        "1) filter the regimes\n",
        "2) number the regimes\n",
        "3) put a regime scroller"
      ]
    },
    {
      "cell_type": "code",
      "execution_count": null,
      "metadata": {
        "colab": {
          "base_uri": "https://localhost:8080/"
        },
        "id": "B-0ZiOCyVWTL",
        "outputId": "a81782f2-d3d9-4f5d-b9e2-90899f410481"
      },
      "outputs": [
        {
          "data": {
            "text/plain": [
              "Date\n",
              "1979-12-31     107.90\n",
              "1980-01-07     106.80\n",
              "1980-01-14     110.40\n",
              "1980-01-21     112.10\n",
              "1980-01-28     114.80\n",
              "               ...   \n",
              "2022-09-19    3899.89\n",
              "2022-09-26    3655.04\n",
              "2022-10-03    3678.43\n",
              "2022-10-10    3612.39\n",
              "2022-10-17    3677.95\n",
              "Freq: W-MON, Name: Close, Length: 2234, dtype: float64"
            ]
          },
          "execution_count": 11,
          "metadata": {},
          "output_type": "execute_result"
        }
      ],
      "source": [
        "df_turning_points_use=df_turning_points\n",
        "num_periods=df_turning_points_use.shape[0]\n",
        "df_turning_points_use[\"Name\"]=range(0,num_periods)\n",
        "df_turning_points_use\n",
        "df_output.Close"
      ]
    },
    {
      "cell_type": "code",
      "execution_count": null,
      "metadata": {
        "colab": {
          "base_uri": "https://localhost:8080/",
          "height": 981,
          "referenced_widgets": [
            "5aa8d0b376be49df899a7b3e598dfca0",
            "2ca244c63d3b4a5a89b1f2298c535104",
            "9334fda5412545d7909eb2a1533a1d3a",
            "b24a33dd9a8b4bdc92815d9ea422a625",
            "9d63b5c99df5491fae62b5ca7c8bbb0d",
            "c08ea9779c7e4641b9068418351df15a",
            "943f797875cb4b51a0f5375c1acb2091",
            "59ce5e2d6e77417e87a952c53d7a3cf6",
            "b6f079084e2b48889d1f3ef6eda434bc",
            "7347cca7c0dd4f16b28bcd4aef97bd1e",
            "f98c89f00bc3429f847534c3090946e4",
            "13a17346e78d4fa6bc60151682e886a7",
            "cf5de0680f734845b6b7c1a6cbf1b3e4",
            "ef5266df21d948249879aa2931f3fd78",
            "c3db5dd9097143a1a17fe26928d57ebe"
          ]
        },
        "id": "Vv79GTcFWjuF",
        "outputId": "343aee81-cc05-4646-dd3e-f7102445c03c"
      },
      "outputs": [
        {
          "output_type": "display_data",
          "data": {
            "text/plain": [
              "<IPython.core.display.HTML object>"
            ],
            "text/html": [
              "<link rel=\"stylesheet\" href=\"https://stackpath.bootstrapcdn.com/font-awesome/4.7.0/css/font-awesome.min.css\"> "
            ]
          },
          "metadata": {}
        },
        {
          "output_type": "display_data",
          "data": {
            "text/plain": [
              "VBox(children=(HBox(children=(Play(value=0, description='Press play', interval=2000, max=39), IntSlider(value=…"
            ],
            "application/vnd.jupyter.widget-view+json": {
              "version_major": 2,
              "version_minor": 0,
              "model_id": "5aa8d0b376be49df899a7b3e598dfca0"
            }
          },
          "metadata": {}
        }
      ],
      "source": [
        "\n",
        "w_play_start_index=widgets.Play(\n",
        "    value=0,\n",
        "    min=0,\n",
        "    max=num_periods-1,\n",
        "    step=1,\n",
        "    description=\"Press play\",\n",
        "    interval=2000,\n",
        "    disabled=False\n",
        ")\n",
        "\n",
        "w_slider = widgets.IntSlider(\n",
        "    min=0,\n",
        "    max=num_periods-1,\n",
        "    step=1,\n",
        "    continuous_update=True,\n",
        "    disabled=False\n",
        ")\n",
        "w_display = widgets.Output(layout = widgets.Layout(height='900px'))\n",
        "widgets.jslink((w_play_start_index, 'value'), (w_slider, 'value'))\n",
        "def select_roi(p_loc):\n",
        "    roi_start_date=df_turning_points_use.Start_Date[p_loc]\n",
        "    roi_end_date=df_turning_points_use.End_Date[p_loc]\n",
        "    roi_prev_start_date=df_turning_points_use.Prev_Start_Date[p_loc]\n",
        "    df_output_roi=df_output[roi_prev_start_date:roi_end_date]\n",
        "    return df_output_roi\n",
        "\n",
        "\n",
        "#with w_display:\n",
        "\n",
        "\n",
        "def play_value_change(change):\n",
        "    p_loc=w_play_start_index.value\n",
        "    w_period_label.value=\"Period ={} Start_Date={}, End Date= {}\".format(p_loc,df_turning_points_use.iloc[p_loc][\"Start_Date\"],df_turning_points_use.iloc[p_loc][\"End_Date\"])\n",
        "    df_output_roi=select_roi(p_loc)\n",
        "    #print(\"df_output={}\".format(df_output_roi))\n",
        "\n",
        "    with w_display:\n",
        "        w_display.clear_output()\n",
        "        fig, ax = plt.subplots(3, 1, figsize=(10, 10))\n",
        "        #fig, ax = plt.subplots(2, 1, figsize=(10, 10))\n",
        "\n",
        "        spx_data=spx_oecd\n",
        "        y_min,y_max=spx_data.Close.min(),spx_data.Close.max()\n",
        "        ax[0].plot(spx_data.index,spx_data.Close)\n",
        "        ax[0].fill_between(spx_data.index, y_min,y_max, where=(spx_data.Regime==0), color='red',alpha=0.06)\n",
        "        ax[0].fill_between(spx_data.index, y_min,y_max, where=(spx_data.Regime==1), color='green',alpha=0.06)\n",
        "        ax[0].fill_between(df_output_roi.index, y_min,y_max, where=(df_output_roi.Regime==0), color='red',alpha=0.3)\n",
        "        ax[0].fill_between(df_output_roi.index, y_min,y_max, where=(df_output_roi.Regime==1), color='green',alpha=0.3)\n",
        "        ax[0].set_yscale('log')\n",
        "        #plt.yscale('log')\n",
        "        #plt.show()\n",
        "        y_min,y_max=df_output_roi.Close.min(),df_output_roi.Close.max()\n",
        "        ax[1].plot(df_output_roi.index,df_output_roi.Close)\n",
        "        ax[2].plot(df_output_roi.index,df_output_roi.prob_one)\n",
        "        ax[2].plot(df_output_roi.index,df_output_roi.prob_tvtp_one)\n",
        "        ax[2].plot(df_output_roi.index,df_output_roi.oecd_diffusion)\n",
        "        ax[1].fill_between(df_output_roi.Close.index, y_min,y_max, where=(df_output_roi.Regime==0), color='red',alpha=0.1)\n",
        "        ax[1].fill_between(df_output_roi.Close.index, y_min,y_max, where=(df_output_roi.Regime==1), color='green',alpha=0.1)\n",
        "\n",
        "        ax[2].fill_between(df_output_roi.Close.index, 0,1, where=(df_output_roi.Regime==0), color='red',alpha=0.1)\n",
        "        ax[2].fill_between(df_output_roi.Close.index, 0,1, where=(df_output_roi.Regime==1), color='green',alpha=0.1)\n",
        "        #print(\"bla\")\n",
        "        plt.show()\n",
        "\n",
        "w_play_start_index.observe(play_value_change, names='value')\n",
        "\n",
        "w_period_label = widgets.Label(value=\"Period ={} Start_Date={}, End Date= {}\".format(0,df_turning_points_use.iloc[0][\"Start_Date\"],df_turning_points_use.iloc[0][\"End_Date\"]))\n",
        "from IPython.display import HTML\n",
        "display(HTML('''<link rel=\"stylesheet\" href=\"https://stackpath.bootstrapcdn.com/font-awesome/4.7.0/css/font-awesome.min.css\"> '''))\n",
        "display(widgets.VBox([widgets.HBox([w_play_start_index,w_slider]),w_period_label, w_display]))\n",
        "\n"
      ]
    },
    {
      "cell_type": "code",
      "execution_count": null,
      "metadata": {
        "colab": {
          "base_uri": "https://localhost:8080/",
          "height": 272
        },
        "id": "s3KcfK1aXfKJ",
        "outputId": "d210d9b7-04c2-43ee-8890-9ba1441638a9"
      },
      "outputs": [
        {
          "data": {
            "text/plain": [
              "{'tvtp_p_zero': 0.6522093420210792,\n",
              " 'fixed_p_zero': 0.421410703052743,\n",
              " 'tvtp_p_zz': 0.5,\n",
              " 'tvtp_p_oo': 0.5,\n",
              " 'fixed_p_zz': 0.9712229700491953,\n",
              " 'fixed_p_oo': 0.9277340344123199,\n",
              " 'fixed_mean_z': 0.003124408810105005,\n",
              " 'fixed_mean_o': -0.001187785189449124,\n",
              " 'tvtp_mean_z': 0.002830252040228205,\n",
              " 'tvtp_mean_o': -0.0012379023322639866,\n",
              " 'fixed_std_z': 0.015723351040217656,\n",
              " 'fixed_std_o': 0.03965563523895178,\n",
              " 'tvtp_std_z': 0.016238527221579716,\n",
              " 'tvtp_std_o': 0.04290616798714771,\n",
              " 'Date': Timestamp('2022-10-17 00:00:00', freq='W-MON')}"
            ]
          },
          "metadata": {},
          "output_type": "display_data"
        }
      ],
      "source": [
        "num_points=df_returns.shape[0]\n",
        "#df_returns[0:num_points]\n",
        "def ClassifyLastPoint(df,df_diffusion):\n",
        "    \"\"\"\n",
        "    \"\"\"\n",
        "    dOut={}\n",
        "    mod_sm_fixed = sm.tsa.MarkovRegression(\n",
        "        df.to_numpy()[1:], k_regimes=num_regimes, trend=\"c\", switching_variance=True, switching_trend=True)\n",
        "    res_fixed = mod_sm_fixed.fit()\n",
        "    mod_sm_tvtp = sm.tsa.MarkovRegression(\n",
        "        df.to_numpy()[1:], k_regimes=num_regimes, trend=\"c\", switching_variance=True, switching_trend=True,exog_tvtp=df_diffusion.to_numpy()[1:])\n",
        "    res_tvtp = mod_sm_tvtp.fit()\n",
        "\n",
        "\n",
        "    dOut[\"tvtp_p_zero\"]=res_tvtp.smoothed_marginal_probabilities[-1,0]\n",
        "    dOut[\"fixed_p_zero\"]=res_fixed.smoothed_marginal_probabilities[-1,0]\n",
        "\n",
        "    dOut[\"tvtp_p_zz\"]=res_tvtp.regime_transition[0,0,-1]\n",
        "    dOut[\"tvtp_p_oo\"]=res_tvtp.regime_transition[1,1,-1]\n",
        "    dOut[\"fixed_p_zz\"]=res_fixed.regime_transition[0,0,0]\n",
        "    dOut[\"fixed_p_oo\"]=res_fixed.regime_transition[1,1,0]\n",
        "    dOut[\"fixed_mean_z\"]=res_fixed.params[2]\n",
        "    dOut[\"fixed_mean_o\"]=res_fixed.params[3]\n",
        "    dOut[\"tvtp_mean_z\"]=res_tvtp.params[2]\n",
        "    dOut[\"tvtp_mean_o\"]=res_tvtp.params[3]\n",
        "    dOut[\"fixed_std_z\"]=np.sqrt(res_fixed.params[4])\n",
        "    dOut[\"fixed_std_o\"]=np.sqrt(res_fixed.params[5])\n",
        "    dOut[\"tvtp_std_z\"]=np.sqrt(res_tvtp.params[4])\n",
        "    dOut[\"tvtp_std_o\"]=np.sqrt(res_tvtp.params[5])\n",
        "\n",
        "    dOut[\"Date\"]=df.index[-1]\n",
        "    return dOut\n",
        "\n",
        "dOut=ClassifyLastPoint(df_returns,df_diffusion_ind)\n",
        "display(dOut)\n"
      ]
    },
    {
      "cell_type": "markdown",
      "metadata": {
        "id": "ktb2wgppLbeu"
      },
      "source": []
    },
    {
      "cell_type": "code",
      "execution_count": null,
      "metadata": {
        "id": "bxyFXG5TLcZF"
      },
      "outputs": [],
      "source": []
    },
    {
      "cell_type": "code",
      "execution_count": null,
      "metadata": {
        "colab": {
          "background_save": true,
          "base_uri": "https://localhost:8080/",
          "height": 49,
          "referenced_widgets": [
            "aef2fbe294c84a8d8cb31d44e17d410b",
            "7d38a85500704d9eb055cedc3dc8a48b",
            "17ee8ef24d0e41b2a7241028957515ed",
            "239625ef2abb4cf1a39b5f16cfd6b3a9",
            "406e6508ef9c41c4a6218112d0b01090",
            "a758b905e46540299e6ae24fc001f711",
            "ec0e9ba023e74e56a6f6a00e7292238b",
            "3a9f46aeb1684a6b889e0d69c2fb53dd"
          ]
        },
        "id": "-CAG_E_sf3HU",
        "outputId": "1711435f-d726-45e1-da98-dd28aa4d7276"
      },
      "outputs": [
        {
          "data": {
            "application/vnd.jupyter.widget-view+json": {
              "model_id": "aef2fbe294c84a8d8cb31d44e17d410b",
              "version_major": 2,
              "version_minor": 0
            },
            "text/plain": [
              "HBox(children=(IntProgress(value=1000, description='Loading:', max=2233, min=1000), Label(value='time 1000 out…"
            ]
          },
          "metadata": {},
          "output_type": "display_data"
        }
      ],
      "source": [
        "num_regimes=2\n",
        "#hard code two regimes\n",
        "first_end_point=1000\n",
        "num_points=df_returns.shape[0]\n",
        "#num_points=first_end_point+5\n",
        "#res_tvtp.regime_transition[1,1,-1]\n",
        "\n",
        "progress_bar=widgets.IntProgress(\n",
        "    value=first_end_point,\n",
        "    min=first_end_point,\n",
        "    max=num_points-1,\n",
        "    step=1,\n",
        "    description='Loading:',\n",
        "    bar_style='', # 'success', 'info', 'warning', 'danger' or ''\n",
        "    orientation='horizontal'\n",
        ")\n",
        "\n",
        "progress_label=widgets.Label(value=(\"time \"+str(first_end_point)+\" out of \"+str(num_points)))\n",
        "display(widgets.HBox([progress_bar,progress_label]))\n",
        "\n",
        "out_array=[]\n",
        "for i in range(first_end_point,num_points):\n",
        "    \n",
        "    dOut=ClassifyLastPoint(df_returns[:i],df_diffusion_ind[:i])\n",
        "    out_array.append(dOut)\n",
        "    progress_bar.value += 1\n",
        "    progress_label.value=\"time \"+str(i)+\" out of \"+str(num_points)\n",
        "\n",
        "progress_bar.bar_style = \"success\"\n",
        "progress_bar.close()\n",
        "\n",
        "df_out=pd.DataFrame.from_records(out_array)\n",
        "df_out.index=df_out.Date\n",
        "\n",
        "with pd.ExcelWriter('output_outsample.xlsx') as writer:  \n",
        "    df_out.to_excel(writer, sheet_name='out_sample')"
      ]
    },
    {
      "cell_type": "code",
      "execution_count": null,
      "metadata": {
        "colab": {
          "base_uri": "https://localhost:8080/"
        },
        "id": "3ezp1TDQMl_j",
        "outputId": "f062af5b-c0fd-4db3-ba22-4d3f9869e731"
      },
      "outputs": [
        {
          "output_type": "execute_result",
          "data": {
            "text/plain": [
              "1234"
            ]
          },
          "metadata": {},
          "execution_count": 16
        }
      ],
      "source": [
        "len(df_out)"
      ]
    }
  ],
  "metadata": {
    "colab": {
      "provenance": [],
      "authorship_tag": "ABX9TyNzcLnacKljGB7g4ycpLsKE",
      "include_colab_link": true
    },
    "kernelspec": {
      "display_name": "Python 3",
      "name": "python3"
    },
    "language_info": {
      "name": "python"
    },
    "widgets": {
      "application/vnd.jupyter.widget-state+json": {
        "17ee8ef24d0e41b2a7241028957515ed": {
          "model_module": "@jupyter-widgets/controls",
          "model_module_version": "1.5.0",
          "model_name": "LabelModel",
          "state": {
            "_dom_classes": [],
            "_model_module": "@jupyter-widgets/controls",
            "_model_module_version": "1.5.0",
            "_model_name": "LabelModel",
            "_view_count": null,
            "_view_module": "@jupyter-widgets/controls",
            "_view_module_version": "1.5.0",
            "_view_name": "LabelView",
            "description": "",
            "description_tooltip": null,
            "layout": "IPY_MODEL_ec0e9ba023e74e56a6f6a00e7292238b",
            "placeholder": "​",
            "style": "IPY_MODEL_3a9f46aeb1684a6b889e0d69c2fb53dd",
            "value": "time 1006 out of 2234"
          }
        },
        "239625ef2abb4cf1a39b5f16cfd6b3a9": {
          "model_module": "@jupyter-widgets/base",
          "model_module_version": "1.2.0",
          "model_name": "LayoutModel",
          "state": {
            "_model_module": "@jupyter-widgets/base",
            "_model_module_version": "1.2.0",
            "_model_name": "LayoutModel",
            "_view_count": null,
            "_view_module": "@jupyter-widgets/base",
            "_view_module_version": "1.2.0",
            "_view_name": "LayoutView",
            "align_content": null,
            "align_items": null,
            "align_self": null,
            "border": null,
            "bottom": null,
            "display": null,
            "flex": null,
            "flex_flow": null,
            "grid_area": null,
            "grid_auto_columns": null,
            "grid_auto_flow": null,
            "grid_auto_rows": null,
            "grid_column": null,
            "grid_gap": null,
            "grid_row": null,
            "grid_template_areas": null,
            "grid_template_columns": null,
            "grid_template_rows": null,
            "height": null,
            "justify_content": null,
            "justify_items": null,
            "left": null,
            "margin": null,
            "max_height": null,
            "max_width": null,
            "min_height": null,
            "min_width": null,
            "object_fit": null,
            "object_position": null,
            "order": null,
            "overflow": null,
            "overflow_x": null,
            "overflow_y": null,
            "padding": null,
            "right": null,
            "top": null,
            "visibility": null,
            "width": null
          }
        },
        "3a9f46aeb1684a6b889e0d69c2fb53dd": {
          "model_module": "@jupyter-widgets/controls",
          "model_module_version": "1.5.0",
          "model_name": "DescriptionStyleModel",
          "state": {
            "_model_module": "@jupyter-widgets/controls",
            "_model_module_version": "1.5.0",
            "_model_name": "DescriptionStyleModel",
            "_view_count": null,
            "_view_module": "@jupyter-widgets/base",
            "_view_module_version": "1.2.0",
            "_view_name": "StyleView",
            "description_width": ""
          }
        },
        "406e6508ef9c41c4a6218112d0b01090": {
          "model_module": "@jupyter-widgets/base",
          "model_module_version": "1.2.0",
          "model_name": "LayoutModel",
          "state": {
            "_model_module": "@jupyter-widgets/base",
            "_model_module_version": "1.2.0",
            "_model_name": "LayoutModel",
            "_view_count": null,
            "_view_module": "@jupyter-widgets/base",
            "_view_module_version": "1.2.0",
            "_view_name": "LayoutView",
            "align_content": null,
            "align_items": null,
            "align_self": null,
            "border": null,
            "bottom": null,
            "display": null,
            "flex": null,
            "flex_flow": null,
            "grid_area": null,
            "grid_auto_columns": null,
            "grid_auto_flow": null,
            "grid_auto_rows": null,
            "grid_column": null,
            "grid_gap": null,
            "grid_row": null,
            "grid_template_areas": null,
            "grid_template_columns": null,
            "grid_template_rows": null,
            "height": null,
            "justify_content": null,
            "justify_items": null,
            "left": null,
            "margin": null,
            "max_height": null,
            "max_width": null,
            "min_height": null,
            "min_width": null,
            "object_fit": null,
            "object_position": null,
            "order": null,
            "overflow": null,
            "overflow_x": null,
            "overflow_y": null,
            "padding": null,
            "right": null,
            "top": null,
            "visibility": null,
            "width": null
          }
        },
        "7d38a85500704d9eb055cedc3dc8a48b": {
          "model_module": "@jupyter-widgets/controls",
          "model_module_version": "1.5.0",
          "model_name": "IntProgressModel",
          "state": {
            "_dom_classes": [],
            "_model_module": "@jupyter-widgets/controls",
            "_model_module_version": "1.5.0",
            "_model_name": "IntProgressModel",
            "_view_count": null,
            "_view_module": "@jupyter-widgets/controls",
            "_view_module_version": "1.5.0",
            "_view_name": "ProgressView",
            "bar_style": "",
            "description": "Loading:",
            "description_tooltip": null,
            "layout": "IPY_MODEL_406e6508ef9c41c4a6218112d0b01090",
            "max": 2233,
            "min": 1000,
            "orientation": "horizontal",
            "style": "IPY_MODEL_a758b905e46540299e6ae24fc001f711",
            "value": 1007
          }
        },
        "a758b905e46540299e6ae24fc001f711": {
          "model_module": "@jupyter-widgets/controls",
          "model_module_version": "1.5.0",
          "model_name": "ProgressStyleModel",
          "state": {
            "_model_module": "@jupyter-widgets/controls",
            "_model_module_version": "1.5.0",
            "_model_name": "ProgressStyleModel",
            "_view_count": null,
            "_view_module": "@jupyter-widgets/base",
            "_view_module_version": "1.2.0",
            "_view_name": "StyleView",
            "bar_color": null,
            "description_width": ""
          }
        },
        "aef2fbe294c84a8d8cb31d44e17d410b": {
          "model_module": "@jupyter-widgets/controls",
          "model_module_version": "1.5.0",
          "model_name": "HBoxModel",
          "state": {
            "_dom_classes": [],
            "_model_module": "@jupyter-widgets/controls",
            "_model_module_version": "1.5.0",
            "_model_name": "HBoxModel",
            "_view_count": null,
            "_view_module": "@jupyter-widgets/controls",
            "_view_module_version": "1.5.0",
            "_view_name": "HBoxView",
            "box_style": "",
            "children": [
              "IPY_MODEL_7d38a85500704d9eb055cedc3dc8a48b",
              "IPY_MODEL_17ee8ef24d0e41b2a7241028957515ed"
            ],
            "layout": "IPY_MODEL_239625ef2abb4cf1a39b5f16cfd6b3a9"
          }
        },
        "ec0e9ba023e74e56a6f6a00e7292238b": {
          "model_module": "@jupyter-widgets/base",
          "model_module_version": "1.2.0",
          "model_name": "LayoutModel",
          "state": {
            "_model_module": "@jupyter-widgets/base",
            "_model_module_version": "1.2.0",
            "_model_name": "LayoutModel",
            "_view_count": null,
            "_view_module": "@jupyter-widgets/base",
            "_view_module_version": "1.2.0",
            "_view_name": "LayoutView",
            "align_content": null,
            "align_items": null,
            "align_self": null,
            "border": null,
            "bottom": null,
            "display": null,
            "flex": null,
            "flex_flow": null,
            "grid_area": null,
            "grid_auto_columns": null,
            "grid_auto_flow": null,
            "grid_auto_rows": null,
            "grid_column": null,
            "grid_gap": null,
            "grid_row": null,
            "grid_template_areas": null,
            "grid_template_columns": null,
            "grid_template_rows": null,
            "height": null,
            "justify_content": null,
            "justify_items": null,
            "left": null,
            "margin": null,
            "max_height": null,
            "max_width": null,
            "min_height": null,
            "min_width": null,
            "object_fit": null,
            "object_position": null,
            "order": null,
            "overflow": null,
            "overflow_x": null,
            "overflow_y": null,
            "padding": null,
            "right": null,
            "top": null,
            "visibility": null,
            "width": null
          }
        },
        "5aa8d0b376be49df899a7b3e598dfca0": {
          "model_module": "@jupyter-widgets/controls",
          "model_name": "VBoxModel",
          "model_module_version": "1.5.0",
          "state": {
            "_dom_classes": [],
            "_model_module": "@jupyter-widgets/controls",
            "_model_module_version": "1.5.0",
            "_model_name": "VBoxModel",
            "_view_count": null,
            "_view_module": "@jupyter-widgets/controls",
            "_view_module_version": "1.5.0",
            "_view_name": "VBoxView",
            "box_style": "",
            "children": [
              "IPY_MODEL_2ca244c63d3b4a5a89b1f2298c535104",
              "IPY_MODEL_9334fda5412545d7909eb2a1533a1d3a",
              "IPY_MODEL_b24a33dd9a8b4bdc92815d9ea422a625"
            ],
            "layout": "IPY_MODEL_9d63b5c99df5491fae62b5ca7c8bbb0d"
          }
        },
        "2ca244c63d3b4a5a89b1f2298c535104": {
          "model_module": "@jupyter-widgets/controls",
          "model_name": "HBoxModel",
          "model_module_version": "1.5.0",
          "state": {
            "_dom_classes": [],
            "_model_module": "@jupyter-widgets/controls",
            "_model_module_version": "1.5.0",
            "_model_name": "HBoxModel",
            "_view_count": null,
            "_view_module": "@jupyter-widgets/controls",
            "_view_module_version": "1.5.0",
            "_view_name": "HBoxView",
            "box_style": "",
            "children": [
              "IPY_MODEL_c08ea9779c7e4641b9068418351df15a",
              "IPY_MODEL_943f797875cb4b51a0f5375c1acb2091"
            ],
            "layout": "IPY_MODEL_59ce5e2d6e77417e87a952c53d7a3cf6"
          }
        },
        "9334fda5412545d7909eb2a1533a1d3a": {
          "model_module": "@jupyter-widgets/controls",
          "model_name": "LabelModel",
          "model_module_version": "1.5.0",
          "state": {
            "_dom_classes": [],
            "_model_module": "@jupyter-widgets/controls",
            "_model_module_version": "1.5.0",
            "_model_name": "LabelModel",
            "_view_count": null,
            "_view_module": "@jupyter-widgets/controls",
            "_view_module_version": "1.5.0",
            "_view_name": "LabelView",
            "description": "",
            "description_tooltip": null,
            "layout": "IPY_MODEL_b6f079084e2b48889d1f3ef6eda434bc",
            "placeholder": "​",
            "style": "IPY_MODEL_7347cca7c0dd4f16b28bcd4aef97bd1e",
            "value": "Period =0 Start_Date=1979-12-31 00:00:00, End Date= 1980-02-11 00:00:00"
          }
        },
        "b24a33dd9a8b4bdc92815d9ea422a625": {
          "model_module": "@jupyter-widgets/output",
          "model_name": "OutputModel",
          "model_module_version": "1.0.0",
          "state": {
            "_dom_classes": [],
            "_model_module": "@jupyter-widgets/output",
            "_model_module_version": "1.0.0",
            "_model_name": "OutputModel",
            "_view_count": null,
            "_view_module": "@jupyter-widgets/output",
            "_view_module_version": "1.0.0",
            "_view_name": "OutputView",
            "layout": "IPY_MODEL_c3db5dd9097143a1a17fe26928d57ebe",
            "msg_id": "",
            "outputs": []
          }
        },
        "9d63b5c99df5491fae62b5ca7c8bbb0d": {
          "model_module": "@jupyter-widgets/base",
          "model_name": "LayoutModel",
          "model_module_version": "1.2.0",
          "state": {
            "_model_module": "@jupyter-widgets/base",
            "_model_module_version": "1.2.0",
            "_model_name": "LayoutModel",
            "_view_count": null,
            "_view_module": "@jupyter-widgets/base",
            "_view_module_version": "1.2.0",
            "_view_name": "LayoutView",
            "align_content": null,
            "align_items": null,
            "align_self": null,
            "border": null,
            "bottom": null,
            "display": null,
            "flex": null,
            "flex_flow": null,
            "grid_area": null,
            "grid_auto_columns": null,
            "grid_auto_flow": null,
            "grid_auto_rows": null,
            "grid_column": null,
            "grid_gap": null,
            "grid_row": null,
            "grid_template_areas": null,
            "grid_template_columns": null,
            "grid_template_rows": null,
            "height": null,
            "justify_content": null,
            "justify_items": null,
            "left": null,
            "margin": null,
            "max_height": null,
            "max_width": null,
            "min_height": null,
            "min_width": null,
            "object_fit": null,
            "object_position": null,
            "order": null,
            "overflow": null,
            "overflow_x": null,
            "overflow_y": null,
            "padding": null,
            "right": null,
            "top": null,
            "visibility": null,
            "width": null
          }
        },
        "c08ea9779c7e4641b9068418351df15a": {
          "model_module": "@jupyter-widgets/controls",
          "model_name": "PlayModel",
          "model_module_version": "1.5.0",
          "state": {
            "_dom_classes": [],
            "_model_module": "@jupyter-widgets/controls",
            "_model_module_version": "1.5.0",
            "_model_name": "PlayModel",
            "_playing": false,
            "_repeat": false,
            "_view_count": null,
            "_view_module": "@jupyter-widgets/controls",
            "_view_module_version": "1.5.0",
            "_view_name": "PlayView",
            "description": "Press play",
            "description_tooltip": null,
            "disabled": false,
            "interval": 2000,
            "layout": "IPY_MODEL_f98c89f00bc3429f847534c3090946e4",
            "max": 39,
            "min": 0,
            "show_repeat": true,
            "step": 1,
            "style": "IPY_MODEL_13a17346e78d4fa6bc60151682e886a7",
            "value": 0
          }
        },
        "943f797875cb4b51a0f5375c1acb2091": {
          "model_module": "@jupyter-widgets/controls",
          "model_name": "IntSliderModel",
          "model_module_version": "1.5.0",
          "state": {
            "_dom_classes": [],
            "_model_module": "@jupyter-widgets/controls",
            "_model_module_version": "1.5.0",
            "_model_name": "IntSliderModel",
            "_view_count": null,
            "_view_module": "@jupyter-widgets/controls",
            "_view_module_version": "1.5.0",
            "_view_name": "IntSliderView",
            "continuous_update": true,
            "description": "",
            "description_tooltip": null,
            "disabled": false,
            "layout": "IPY_MODEL_cf5de0680f734845b6b7c1a6cbf1b3e4",
            "max": 39,
            "min": 0,
            "orientation": "horizontal",
            "readout": true,
            "readout_format": "d",
            "step": 1,
            "style": "IPY_MODEL_ef5266df21d948249879aa2931f3fd78",
            "value": 0
          }
        },
        "59ce5e2d6e77417e87a952c53d7a3cf6": {
          "model_module": "@jupyter-widgets/base",
          "model_name": "LayoutModel",
          "model_module_version": "1.2.0",
          "state": {
            "_model_module": "@jupyter-widgets/base",
            "_model_module_version": "1.2.0",
            "_model_name": "LayoutModel",
            "_view_count": null,
            "_view_module": "@jupyter-widgets/base",
            "_view_module_version": "1.2.0",
            "_view_name": "LayoutView",
            "align_content": null,
            "align_items": null,
            "align_self": null,
            "border": null,
            "bottom": null,
            "display": null,
            "flex": null,
            "flex_flow": null,
            "grid_area": null,
            "grid_auto_columns": null,
            "grid_auto_flow": null,
            "grid_auto_rows": null,
            "grid_column": null,
            "grid_gap": null,
            "grid_row": null,
            "grid_template_areas": null,
            "grid_template_columns": null,
            "grid_template_rows": null,
            "height": null,
            "justify_content": null,
            "justify_items": null,
            "left": null,
            "margin": null,
            "max_height": null,
            "max_width": null,
            "min_height": null,
            "min_width": null,
            "object_fit": null,
            "object_position": null,
            "order": null,
            "overflow": null,
            "overflow_x": null,
            "overflow_y": null,
            "padding": null,
            "right": null,
            "top": null,
            "visibility": null,
            "width": null
          }
        },
        "b6f079084e2b48889d1f3ef6eda434bc": {
          "model_module": "@jupyter-widgets/base",
          "model_name": "LayoutModel",
          "model_module_version": "1.2.0",
          "state": {
            "_model_module": "@jupyter-widgets/base",
            "_model_module_version": "1.2.0",
            "_model_name": "LayoutModel",
            "_view_count": null,
            "_view_module": "@jupyter-widgets/base",
            "_view_module_version": "1.2.0",
            "_view_name": "LayoutView",
            "align_content": null,
            "align_items": null,
            "align_self": null,
            "border": null,
            "bottom": null,
            "display": null,
            "flex": null,
            "flex_flow": null,
            "grid_area": null,
            "grid_auto_columns": null,
            "grid_auto_flow": null,
            "grid_auto_rows": null,
            "grid_column": null,
            "grid_gap": null,
            "grid_row": null,
            "grid_template_areas": null,
            "grid_template_columns": null,
            "grid_template_rows": null,
            "height": null,
            "justify_content": null,
            "justify_items": null,
            "left": null,
            "margin": null,
            "max_height": null,
            "max_width": null,
            "min_height": null,
            "min_width": null,
            "object_fit": null,
            "object_position": null,
            "order": null,
            "overflow": null,
            "overflow_x": null,
            "overflow_y": null,
            "padding": null,
            "right": null,
            "top": null,
            "visibility": null,
            "width": null
          }
        },
        "7347cca7c0dd4f16b28bcd4aef97bd1e": {
          "model_module": "@jupyter-widgets/controls",
          "model_name": "DescriptionStyleModel",
          "model_module_version": "1.5.0",
          "state": {
            "_model_module": "@jupyter-widgets/controls",
            "_model_module_version": "1.5.0",
            "_model_name": "DescriptionStyleModel",
            "_view_count": null,
            "_view_module": "@jupyter-widgets/base",
            "_view_module_version": "1.2.0",
            "_view_name": "StyleView",
            "description_width": ""
          }
        },
        "f98c89f00bc3429f847534c3090946e4": {
          "model_module": "@jupyter-widgets/base",
          "model_name": "LayoutModel",
          "model_module_version": "1.2.0",
          "state": {
            "_model_module": "@jupyter-widgets/base",
            "_model_module_version": "1.2.0",
            "_model_name": "LayoutModel",
            "_view_count": null,
            "_view_module": "@jupyter-widgets/base",
            "_view_module_version": "1.2.0",
            "_view_name": "LayoutView",
            "align_content": null,
            "align_items": null,
            "align_self": null,
            "border": null,
            "bottom": null,
            "display": null,
            "flex": null,
            "flex_flow": null,
            "grid_area": null,
            "grid_auto_columns": null,
            "grid_auto_flow": null,
            "grid_auto_rows": null,
            "grid_column": null,
            "grid_gap": null,
            "grid_row": null,
            "grid_template_areas": null,
            "grid_template_columns": null,
            "grid_template_rows": null,
            "height": null,
            "justify_content": null,
            "justify_items": null,
            "left": null,
            "margin": null,
            "max_height": null,
            "max_width": null,
            "min_height": null,
            "min_width": null,
            "object_fit": null,
            "object_position": null,
            "order": null,
            "overflow": null,
            "overflow_x": null,
            "overflow_y": null,
            "padding": null,
            "right": null,
            "top": null,
            "visibility": null,
            "width": null
          }
        },
        "13a17346e78d4fa6bc60151682e886a7": {
          "model_module": "@jupyter-widgets/controls",
          "model_name": "DescriptionStyleModel",
          "model_module_version": "1.5.0",
          "state": {
            "_model_module": "@jupyter-widgets/controls",
            "_model_module_version": "1.5.0",
            "_model_name": "DescriptionStyleModel",
            "_view_count": null,
            "_view_module": "@jupyter-widgets/base",
            "_view_module_version": "1.2.0",
            "_view_name": "StyleView",
            "description_width": ""
          }
        },
        "cf5de0680f734845b6b7c1a6cbf1b3e4": {
          "model_module": "@jupyter-widgets/base",
          "model_name": "LayoutModel",
          "model_module_version": "1.2.0",
          "state": {
            "_model_module": "@jupyter-widgets/base",
            "_model_module_version": "1.2.0",
            "_model_name": "LayoutModel",
            "_view_count": null,
            "_view_module": "@jupyter-widgets/base",
            "_view_module_version": "1.2.0",
            "_view_name": "LayoutView",
            "align_content": null,
            "align_items": null,
            "align_self": null,
            "border": null,
            "bottom": null,
            "display": null,
            "flex": null,
            "flex_flow": null,
            "grid_area": null,
            "grid_auto_columns": null,
            "grid_auto_flow": null,
            "grid_auto_rows": null,
            "grid_column": null,
            "grid_gap": null,
            "grid_row": null,
            "grid_template_areas": null,
            "grid_template_columns": null,
            "grid_template_rows": null,
            "height": null,
            "justify_content": null,
            "justify_items": null,
            "left": null,
            "margin": null,
            "max_height": null,
            "max_width": null,
            "min_height": null,
            "min_width": null,
            "object_fit": null,
            "object_position": null,
            "order": null,
            "overflow": null,
            "overflow_x": null,
            "overflow_y": null,
            "padding": null,
            "right": null,
            "top": null,
            "visibility": null,
            "width": null
          }
        },
        "ef5266df21d948249879aa2931f3fd78": {
          "model_module": "@jupyter-widgets/controls",
          "model_name": "SliderStyleModel",
          "model_module_version": "1.5.0",
          "state": {
            "_model_module": "@jupyter-widgets/controls",
            "_model_module_version": "1.5.0",
            "_model_name": "SliderStyleModel",
            "_view_count": null,
            "_view_module": "@jupyter-widgets/base",
            "_view_module_version": "1.2.0",
            "_view_name": "StyleView",
            "description_width": "",
            "handle_color": null
          }
        },
        "c3db5dd9097143a1a17fe26928d57ebe": {
          "model_module": "@jupyter-widgets/base",
          "model_name": "LayoutModel",
          "model_module_version": "1.2.0",
          "state": {
            "_model_module": "@jupyter-widgets/base",
            "_model_module_version": "1.2.0",
            "_model_name": "LayoutModel",
            "_view_count": null,
            "_view_module": "@jupyter-widgets/base",
            "_view_module_version": "1.2.0",
            "_view_name": "LayoutView",
            "align_content": null,
            "align_items": null,
            "align_self": null,
            "border": null,
            "bottom": null,
            "display": null,
            "flex": null,
            "flex_flow": null,
            "grid_area": null,
            "grid_auto_columns": null,
            "grid_auto_flow": null,
            "grid_auto_rows": null,
            "grid_column": null,
            "grid_gap": null,
            "grid_row": null,
            "grid_template_areas": null,
            "grid_template_columns": null,
            "grid_template_rows": null,
            "height": "900px",
            "justify_content": null,
            "justify_items": null,
            "left": null,
            "margin": null,
            "max_height": null,
            "max_width": null,
            "min_height": null,
            "min_width": null,
            "object_fit": null,
            "object_position": null,
            "order": null,
            "overflow": null,
            "overflow_x": null,
            "overflow_y": null,
            "padding": null,
            "right": null,
            "top": null,
            "visibility": null,
            "width": null
          }
        }
      }
    }
  },
  "nbformat": 4,
  "nbformat_minor": 0
}